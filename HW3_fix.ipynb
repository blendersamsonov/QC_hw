{
 "cells": [
  {
   "cell_type": "markdown",
   "metadata": {},
   "source": [
    "# 1. QFT"
   ]
  },
  {
   "cell_type": "markdown",
   "metadata": {},
   "source": [
    "By definition the QFT is the following unitary operation"
   ]
  },
  {
   "cell_type": "markdown",
   "metadata": {},
   "source": [
    "## $QFT|x\\rangle = \\frac{1}{2^{n/2}}\\sum\\limits_{y=0}^{2^n-1}e^{2\\pi i \\frac{xy}{2^n}} |y\\rangle$"
   ]
  },
  {
   "cell_type": "markdown",
   "metadata": {},
   "source": [
    "Note that here $xy$ is a usual multiplication. Let's unwrap this expression to understand how it can be implemeted in the real circuit. First let's represent $y$  in binary, i.e. $y=y_1 y_2 \\dots y_n$ where $y_j$ are either 0 or 1, so"
   ]
  },
  {
   "cell_type": "markdown",
   "metadata": {},
   "source": [
    "## $y = \\sum\\limits_{k=1}^{n} 2^{n-k} y_k$"
   ]
  },
  {
   "cell_type": "markdown",
   "metadata": {},
   "source": [
    "Thus"
   ]
  },
  {
   "cell_type": "markdown",
   "metadata": {},
   "source": [
    "## $\\frac{1}{2^{n/2}}\\sum\\limits_{y=0}^{2^n-1}e^{2\\pi i \\frac{xy}{2^n}} |y\\rangle = \n",
    "\\frac{1}{2^{n/2}}\\sum\\limits_{y=0}^{2^n-1}e^{2\\pi ix \\left[ \\sum\\limits_{k=1}^{n} y_k / 2^k \\right]} |y_1 y_2 \\dots y_n\\rangle = \n",
    "\\frac{1}{2^{n/2}}\\sum\\limits_{y=0}^{2^n-1}\\prod\\limits_{k=1}^{n}e^{2\\pi ix y_k / 2^k } |y_1 y_2 \\dots y_n\\rangle = \\\\ =\n",
    "\\frac{1}{2^{n/2}}\\prod\\limits_{k=1}^{n}\\left( e^{2\\pi ix 0 / 2^k } |0\\rangle_k + e^{2\\pi ix 1 / 2^k } |1\\rangle_k \\right)= \n",
    "\\frac{1}{2^{n/2}}\\prod\\limits_{k=1}^{n}\\left( |0\\rangle_k + e^{2\\pi ix / 2^k } |1\\rangle_k \\right)= \\\\ =\n",
    "\\frac{1}{2^{n/2}} \\left( |0\\rangle_1 + e^{2\\pi ix / 2 } |1\\rangle_1  \\right) \\otimes \\left( |0\\rangle_2 + e^{2\\pi ix / 2^2 } |1\\rangle_2  \\right) \\otimes \\dots \\otimes\n",
    "\\left( |0\\rangle_{n-1} + e^{2\\pi ix / 2^{n-1} } |1\\rangle_{n-1}  \\right) \\otimes \\left( |0\\rangle_n + e^{2\\pi ix / 2^n } |1\\rangle_n  \\right)$"
   ]
  },
  {
   "cell_type": "markdown",
   "metadata": {},
   "source": [
    "We can see that we can construct such a state using single Q-bit gates"
   ]
  },
  {
   "cell_type": "markdown",
   "metadata": {},
   "source": [
    "## $H|x_k\\rangle = \\frac{1}{\\sqrt{2}}\\left( |0\\rangle + (-1)^{x_k}|1\\rangle \\right) \\equiv \\frac{1}{\\sqrt{2}}\\left( |0\\rangle + e^{2\\pi i x_k / 2}|1\\rangle \\right)$"
   ]
  },
  {
   "cell_type": "markdown",
   "metadata": {},
   "source": [
    "This is already almost what we want"
   ]
  },
  {
   "cell_type": "markdown",
   "metadata": {},
   "source": [
    "But we need a phase before the $|1\\rangle_k$ state to be equal to $2\\pi i x/2^k$. So we have to perform several additional rotations around the $z$-axis"
   ]
  },
  {
   "cell_type": "markdown",
   "metadata": {},
   "source": [
    "Let's examine the following state"
   ]
  },
  {
   "cell_type": "markdown",
   "metadata": {},
   "source": [
    "## $\\prod\\limits_{j=k+1}^{n} C_j ROT_k H |x\\rangle_k$"
   ]
  },
  {
   "cell_type": "markdown",
   "metadata": {},
   "source": [
    "where $C_j ROT_k$ is the controled rotation of the Q-bit $k$ around the $z$ axis on the angle $2\\pi/2^k$ with the control Q-bit $j$. We can explicitly rewrite $C_j ROT_k$ in the following form"
   ]
  },
  {
   "cell_type": "markdown",
   "metadata": {},
   "source": [
    "## $C_j ROT_k |1\\rangle_k = e^{2\\pi i x_j/2^k} |1\\rangle_k$"
   ]
  },
  {
   "cell_type": "markdown",
   "metadata": {},
   "source": [
    "Which basically means that we add phase $2\\pi x_j/2^k$ if the control Q-bit $x_j=1$. \n",
    "\n",
    "Noting again that $x/2^n = \\sum\\limits_{j=1}^{n} x_j / 2^j$"
   ]
  },
  {
   "cell_type": "markdown",
   "metadata": {},
   "source": [
    "## $\\prod\\limits_{j=k+1}^{n} C_j ROT_k H |x\\rangle_k = \\frac{1}{\\sqrt{2}} \\left( |0\\rangle_k + e^{2\\pi i \\sum\\limits_{j=k}^{n}  x_j / 2^j} |1\\rangle_k\\right) = \\frac{1}{\\sqrt{2}} \\left( |0\\rangle_k + e^{2\\pi i x / 2^{(n-k)}} |1\\rangle_k\\right)$"
   ]
  },
  {
   "cell_type": "markdown",
   "metadata": {},
   "source": [
    "So we get what we wanted, but the Q-bit numbers should be reversed after all the gates, i.e $k \\rightarrow n-k$"
   ]
  },
  {
   "cell_type": "markdown",
   "metadata": {},
   "source": [
    "### Qiskit implemetation of QFT"
   ]
  },
  {
   "cell_type": "code",
   "execution_count": 1,
   "metadata": {},
   "outputs": [],
   "source": [
    "from qiskit import QuantumCircuit, execute, Aer\n",
    "from qiskit.visualization import plot_histogram, plot_bloch_vector\n",
    "import numpy as np\n",
    "import numpy.random as rand\n",
    "\n",
    "backend = Aer.get_backend('qasm_simulator')"
   ]
  },
  {
   "cell_type": "code",
   "execution_count": 76,
   "metadata": {},
   "outputs": [],
   "source": [
    "def qft(qc, n):\n",
    "    # Hadamards and rotations\n",
    "    for i in range(n):\n",
    "        qb = n - i - 1\n",
    "        qc.h(qb)\n",
    "        for j in range(n - i - 1):\n",
    "            qc.cu1(np.pi/np.power(2, j + 1), qb - j - 1, qb)\n",
    "        qc.barrier()\n",
    "    \n",
    "    # Indecies reversal\n",
    "    for qb in range(n//2):\n",
    "        qc.swap(qb, n - qb - 1)"
   ]
  },
  {
   "cell_type": "markdown",
   "metadata": {},
   "source": [
    "Testing for $n = 3$"
   ]
  },
  {
   "cell_type": "code",
   "execution_count": 196,
   "metadata": {},
   "outputs": [
    {
     "data": {
      "text/plain": [
       "array([ 0.29778659+0.31456028j, -0.29260183-0.40689664j,\n",
       "        0.24170058+0.07999684j,  0.25434868+0.01303268j,\n",
       "       -0.20579063-0.09335472j,  0.36644974+0.24322875j,\n",
       "        0.0012835 -0.02349121j, -0.19178651-0.38686746j])"
      ]
     },
     "execution_count": 196,
     "metadata": {},
     "output_type": "execute_result"
    }
   ],
   "source": [
    "n = 3\n",
    "l = np.power(2, n)\n",
    "# Generating random initial state\n",
    "init = (rand.rand(2 * l).astype(np.complex) - 0.5) * 2\n",
    "init /= np.linalg.norm(init)\n",
    "init = init.reshape(l, 2)\n",
    "init[:,1] *= 1j\n",
    "init = init[:,0] + init[:,1]\n",
    "init"
   ]
  },
  {
   "cell_type": "code",
   "execution_count": 197,
   "metadata": {},
   "outputs": [
    {
     "data": {
      "text/plain": [
       "array([ 0.16666158-0.09185015j, -0.07228749-0.08651548j,\n",
       "       -0.12768758+0.06222033j,  0.55348299+0.26849674j,\n",
       "        0.07020508+0.28822162j,  0.35519326+0.54495548j,\n",
       "        0.02092285+0.0542401j , -0.12422301-0.15005783j])"
      ]
     },
     "execution_count": 197,
     "metadata": {},
     "output_type": "execute_result"
    }
   ],
   "source": [
    "# Manually calculating the QFT of the inital state\n",
    "est = np.arange(l).astype(np.complex)\n",
    "for i, y in enumerate(est):\n",
    "    amp = np.zeros_like(init).astype(np.complex)\n",
    "    for j, x in enumerate(init):\n",
    "        amp[j] = np.exp(2 * np.pi * 1j * i * j / l) * x\n",
    "    est[i] = 1 / np.sqrt(l) * np.sum(amp)\n",
    "est"
   ]
  },
  {
   "cell_type": "code",
   "execution_count": 198,
   "metadata": {},
   "outputs": [],
   "source": [
    "qc = QuantumCircuit(n, n)\n",
    "qc.initialize(init, range(n))\n",
    "qft(qc, n)\n",
    "qc.measure(range(n), range(n));"
   ]
  },
  {
   "cell_type": "code",
   "execution_count": 199,
   "metadata": {},
   "outputs": [],
   "source": [
    "shots = 4096\n",
    "res = execute(qc,backend,shots=shots).result()\n",
    "res = np.array([[int(key, 2), val/shots] for key, val in res.get_counts().items()])"
   ]
  },
  {
   "cell_type": "code",
   "execution_count": 200,
   "metadata": {},
   "outputs": [
    {
     "data": {
      "image/png": "[encoded data removed]",
      "text/plain": [
       "<Figure size 432x288 with 1 Axes>"
      ]
     },
     "metadata": {
      "needs_background": "light"
     },
     "output_type": "display_data"
    }
   ],
   "source": [
    "import matplotlib.pyplot as plt\n",
    "fig,ax=plt.subplots()\n",
    "ax.plot(res[np.argsort(res[:,0]),1])\n",
    "ax.plot(np.arange(l),np.abs(est)**2);"
   ]
  },
  {
   "cell_type": "markdown",
   "metadata": {},
   "source": [
    "The plots coincide, thus our circuit indeed perofrm QFT"
   ]
  },
  {
   "cell_type": "markdown",
   "metadata": {},
   "source": [
    "Just to double check let's do the same for $n=5$"
   ]
  },
  {
   "cell_type": "code",
   "execution_count": 195,
   "metadata": {},
   "outputs": [
    {
     "data": {
      "image/png": "[encoded data removed]",
      "text/plain": [
       "<Figure size 432x288 with 1 Axes>"
      ]
     },
     "metadata": {
      "needs_background": "light"
     },
     "output_type": "display_data"
    }
   ],
   "source": [
    "n = 5\n",
    "l = np.power(2, n)\n",
    "# Generating random initial state\n",
    "init = (rand.rand(2 * l).astype(np.complex) - 0.5) * 2\n",
    "init /= np.linalg.norm(init)\n",
    "init = init.reshape(l, 2)\n",
    "init[:,1] *= 1j\n",
    "init = init[:,0] + init[:,1]\n",
    "\n",
    "est = np.arange(l).astype(np.complex)\n",
    "for i, y in enumerate(est):\n",
    "    amp = np.zeros_like(init).astype(np.complex)\n",
    "    for j, x in enumerate(init):\n",
    "        amp[j] = np.exp(2 * np.pi * 1j * i * j / l) * x\n",
    "    est[i] = 1 / np.sqrt(l) * np.sum(amp)\n",
    "\n",
    "qc = QuantumCircuit(n, n)\n",
    "qc.initialize(init, range(n))\n",
    "qft(qc, n)\n",
    "qc.measure(range(n), range(n))\n",
    "\n",
    "shots = 4096\n",
    "res = execute(qc,backend,shots=shots).result()\n",
    "res = np.array([[int(key, 2), val/shots] for key, val in res.get_counts().items()])\n",
    "\n",
    "fig,ax=plt.subplots()\n",
    "ax.plot(res[np.argsort(res[:,0]),1])\n",
    "ax.plot(np.arange(l),np.abs(est)**2);"
   ]
  },
  {
   "cell_type": "markdown",
   "metadata": {},
   "source": [
    "# 2. Quantum phase estimation"
   ]
  },
  {
   "cell_type": "markdown",
   "metadata": {},
   "source": [
    "We need to estimate a random phase of a single Qbit gate $T=\\begin{pmatrix}1 & 0 \\\\ 0 & e^{i\\theta}\\end{pmatrix}$"
   ]
  },
  {
   "cell_type": "markdown",
   "metadata": {},
   "source": [
    "Let's consider the following n + 1 Q-bit state:\n",
    "\n",
    "$\n",
    "|\\Psi\\rangle = H^{\\otimes n}|0\\rangle \\prod \\limits_{j=1}^{n} C_jT^j  |1\\rangle\n",
    "$"
   ]
  },
  {
   "cell_type": "markdown",
   "metadata": {},
   "source": [
    "Where $C_jT^{j}$ is the controled operator $T^j$ with the control Qbit j"
   ]
  },
  {
   "cell_type": "markdown",
   "metadata": {},
   "source": [
    "So\n",
    "\n",
    "$|\\Psi\\rangle = \\frac{1}{\\sqrt{2^n}}\\prod \\limits_{j=1}^{n} \\left( |0\\rangle + e^{ij\\theta} |1\\rangle \\right)|1\\rangle$"
   ]
  },
  {
   "cell_type": "markdown",
   "metadata": {},
   "source": [
    "Let's apply a QFT to the first n Qbits of that state:\n",
    "\n",
    "## $ |\\Psi_F\\rangle = \\frac{1}{\\sqrt{2^n}}\\sum\\limits_{y=0}^{2^n-1} e^{2\\pi i \\frac{\\Psi y}{2^n}} |y\\rangle |\\psi\\rangle = \\frac{1}{2^n}\\sum\\limits_{j=1}^{n}\\sum\\limits_{y=0}^{2^n-1} e^{iy\\theta} e^{i \\frac{2\\pi y}{2^n}} |y\\rangle |\\psi\\rangle\n",
    "$"
   ]
  },
  {
   "cell_type": "markdown",
   "metadata": {},
   "source": [
    "$H^{\\otimes n} |x\\rangle = \\frac{1}{\\sqrt{2^n}} \\sum\\limits_{z=0}^{2^n-1} e^{i\\pi x \\cdot z} | z \\rangle$"
   ]
  },
  {
   "cell_type": "code",
   "execution_count": 194,
   "metadata": {},
   "outputs": [
    {
     "data": {
      "text/html": [
       "<div>\n",
       "<style scoped>\n",
       "    .dataframe tbody tr th:only-of-type {\n",
       "        vertical-align: middle;\n",
       "    }\n",
       "\n",
       "    .dataframe tbody tr th {\n",
       "        vertical-align: top;\n",
       "    }\n",
       "\n",
       "    .dataframe thead th {\n",
       "        text-align: right;\n",
       "    }\n",
       "</style>\n",
       "<table border=\"1\" class=\"dataframe\">\n",
       "  <thead>\n",
       "    <tr style=\"text-align: right;\">\n",
       "      <th></th>\n",
       "      <th>Real</th>\n",
       "      <th>Evaluated</th>\n",
       "      <th>Abs. error</th>\n",
       "      <th>Max. error</th>\n",
       "      <th>Correct</th>\n",
       "    </tr>\n",
       "    <tr>\n",
       "      <th>Exp. №</th>\n",
       "      <th></th>\n",
       "      <th></th>\n",
       "      <th></th>\n",
       "      <th></th>\n",
       "      <th></th>\n",
       "    </tr>\n",
       "  </thead>\n",
       "  <tbody>\n",
       "    <tr>\n",
       "      <th>0</th>\n",
       "      <td>2.534077</td>\n",
       "      <td>2.552544</td>\n",
       "      <td>0.018467</td>\n",
       "      <td>0.098175</td>\n",
       "      <td>True</td>\n",
       "    </tr>\n",
       "    <tr>\n",
       "      <th>1</th>\n",
       "      <td>6.152035</td>\n",
       "      <td>6.086836</td>\n",
       "      <td>0.065199</td>\n",
       "      <td>0.098175</td>\n",
       "      <td>True</td>\n",
       "    </tr>\n",
       "    <tr>\n",
       "      <th>2</th>\n",
       "      <td>5.673657</td>\n",
       "      <td>5.694137</td>\n",
       "      <td>0.020480</td>\n",
       "      <td>0.098175</td>\n",
       "      <td>True</td>\n",
       "    </tr>\n",
       "    <tr>\n",
       "      <th>3</th>\n",
       "      <td>1.306778</td>\n",
       "      <td>1.374447</td>\n",
       "      <td>0.067669</td>\n",
       "      <td>0.098175</td>\n",
       "      <td>True</td>\n",
       "    </tr>\n",
       "    <tr>\n",
       "      <th>4</th>\n",
       "      <td>5.365013</td>\n",
       "      <td>5.301438</td>\n",
       "      <td>0.063575</td>\n",
       "      <td>0.098175</td>\n",
       "      <td>True</td>\n",
       "    </tr>\n",
       "    <tr>\n",
       "      <th>5</th>\n",
       "      <td>3.845263</td>\n",
       "      <td>3.926991</td>\n",
       "      <td>0.081728</td>\n",
       "      <td>0.098175</td>\n",
       "      <td>True</td>\n",
       "    </tr>\n",
       "    <tr>\n",
       "      <th>6</th>\n",
       "      <td>4.700933</td>\n",
       "      <td>4.712389</td>\n",
       "      <td>0.011456</td>\n",
       "      <td>0.098175</td>\n",
       "      <td>True</td>\n",
       "    </tr>\n",
       "    <tr>\n",
       "      <th>7</th>\n",
       "      <td>5.365336</td>\n",
       "      <td>5.301438</td>\n",
       "      <td>0.063898</td>\n",
       "      <td>0.098175</td>\n",
       "      <td>True</td>\n",
       "    </tr>\n",
       "    <tr>\n",
       "      <th>8</th>\n",
       "      <td>1.999906</td>\n",
       "      <td>1.963495</td>\n",
       "      <td>0.036411</td>\n",
       "      <td>0.098175</td>\n",
       "      <td>True</td>\n",
       "    </tr>\n",
       "    <tr>\n",
       "      <th>9</th>\n",
       "      <td>3.811015</td>\n",
       "      <td>3.730641</td>\n",
       "      <td>0.080374</td>\n",
       "      <td>0.098175</td>\n",
       "      <td>True</td>\n",
       "    </tr>\n",
       "  </tbody>\n",
       "</table>\n",
       "</div>"
      ],
      "text/plain": [
       "            Real  Evaluated  Abs. error  Max. error  Correct\n",
       "Exp. №                                                      \n",
       "0       2.534077   2.552544    0.018467    0.098175     True\n",
       "1       6.152035   6.086836    0.065199    0.098175     True\n",
       "2       5.673657   5.694137    0.020480    0.098175     True\n",
       "3       1.306778   1.374447    0.067669    0.098175     True\n",
       "4       5.365013   5.301438    0.063575    0.098175     True\n",
       "5       3.845263   3.926991    0.081728    0.098175     True\n",
       "6       4.700933   4.712389    0.011456    0.098175     True\n",
       "7       5.365336   5.301438    0.063898    0.098175     True\n",
       "8       1.999906   1.963495    0.036411    0.098175     True\n",
       "9       3.811015   3.730641    0.080374    0.098175     True"
      ]
     },
     "execution_count": 194,
     "metadata": {},
     "output_type": "execute_result"
    }
   ],
   "source": [
    "import pandas as pd\n",
    "eval_phase = []\n",
    "real_phase = []\n",
    "for i in range(10):\n",
    "    n = 5\n",
    "    phase = 2 * np.pi * rand.rand()\n",
    "    qc = QuantumCircuit(n + 1, n)\n",
    "\n",
    "    qc.x(n)\n",
    "    qc.h(range(n))\n",
    "\n",
    "    for j in range(n):\n",
    "        qc.cu1(phase*np.power(2, j), j, n)\n",
    "\n",
    "    qft(qc, n)\n",
    "    qc.measure(range(n),range(n))\n",
    "\n",
    "    res = execute(qc,backend,shots=4096).result()\n",
    "    res = np.array([[int(key, 2), value] for key, value in res.get_counts().items()])\n",
    "    eval_phase.append(2 * np.pi * (1 - res[np.argmax(res[:,1]),0] / np.power(2, n) ) )\n",
    "    real_phase.append(phase)\n",
    "df = pd.DataFrame(data = {'Real':real_phase,'Evaluated':eval_phase})\n",
    "df.index.name = 'Exp. №'\n",
    "df['Abs. error'] = np.abs(df['Real'] - df['Evaluated'])\n",
    "df['Max. error'] = 2 * np.pi * np.ones_like(df['Real']) / np.power(2, n+1)\n",
    "df['Correct'] = df['Abs. error'] < df['Max. error']\n",
    "df"
   ]
  },
  {
   "cell_type": "markdown",
   "metadata": {},
   "source": [
    "The last columns shows whether the difference between the real and estimated phase is smaller than the expected maximum error of the algorithm $1/2^{n+1}$"
   ]
  }
 ],
 "metadata": {
  "kernelspec": {
   "display_name": "Python 3",
   "language": "python",
   "name": "python3"
  },
  "language_info": {
   "codemirror_mode": {
    "name": "ipython",
    "version": 3
   },
   "file_extension": ".py",
   "mimetype": "text/x-python",
   "name": "python",
   "nbconvert_exporter": "python",
   "pygments_lexer": "ipython3",
   "version": "3.8.5"
  }
 },
 "nbformat": 4,
 "nbformat_minor": 4
}

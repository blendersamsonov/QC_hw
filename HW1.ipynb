{
 "cells": [
  {
   "cell_type": "markdown",
   "metadata": {},
   "source": [
    "# 1. Computing relative phase of a single Q-bit"
   ]
  },
  {
   "cell_type": "markdown",
   "metadata": {},
   "source": [
    "$ \\Psi = \n",
    "\\begin{pmatrix}\n",
    "\\sin\\theta \\\\\n",
    "\\cos\\theta e^{i\\varphi}\n",
    "\\end{pmatrix}$ "
   ]
  },
  {
   "cell_type": "markdown",
   "metadata": {},
   "source": [
    "Let's calculate $\\mathbf{H}\\Psi$:\n",
    "\n",
    "\n",
    "$\\mathbf{H}\\Psi = \\frac{1}{\\sqrt{2}}\n",
    "\\begin{pmatrix}\n",
    "1 & 1 \\\\\n",
    "1 & -1\n",
    "\\end{pmatrix}\n",
    "\\begin{pmatrix}\n",
    "\\sin\\theta \\\\\n",
    "\\cos\\theta e^{i\\varphi}\n",
    "\\end{pmatrix}\n",
    "= \\frac{1}{\\sqrt{2}}\n",
    "\\begin{pmatrix}\n",
    "\\sin\\theta + \\cos\\theta e^{i\\varphi} \\\\\n",
    "\\sin\\theta - \\cos\\theta e^{i\\varphi}\n",
    "\\end{pmatrix}\n",
    "$"
   ]
  },
  {
   "cell_type": "markdown",
   "metadata": {},
   "source": [
    "Let's also calculate probabilities $P_H(0)$ and $P_H(1)$ of the Q-bit being in the state $\\begin{pmatrix}1\\\\0\\end{pmatrix}$ or $\\begin{pmatrix}0\\\\1\\end{pmatrix}$ correspondingly"
   ]
  },
  {
   "cell_type": "markdown",
   "metadata": {},
   "source": [
    "$ P_H(0, 1) = \\frac{1}{2} {\\left| \\sin\\theta \\pm \\cos\\theta e^{i\\varphi} \\right|}^2 =\n",
    "\\frac{1 \\pm 2\\sin\\theta\\cos\\theta\\cos\\varphi}{2}$"
   ]
  },
  {
   "cell_type": "markdown",
   "metadata": {},
   "source": [
    "So"
   ]
  },
  {
   "cell_type": "markdown",
   "metadata": {},
   "source": [
    "$\\cos\\varphi = \\frac{P_H(0)-P_H(1)}{2\\sin\\theta\\cos\\theta}$"
   ]
  },
  {
   "cell_type": "markdown",
   "metadata": {},
   "source": [
    "And we know that in the circuit without the $\\mathbf{H}$-gate the probabilities $P(0)$ and $P(1)$ are:\n",
    "\n",
    "$P(0) = \\sin^2\\theta \\\\\n",
    "P(1) = \\cos^2\\theta$"
   ]
  },
  {
   "cell_type": "markdown",
   "metadata": {},
   "source": [
    "So finally"
   ]
  },
  {
   "cell_type": "markdown",
   "metadata": {},
   "source": [
    "$\\cos\\varphi=\\frac{P_H(0)-P_H(1)}{2\\sqrt{P(0)P(1)}}$"
   ]
  },
  {
   "cell_type": "code",
   "execution_count": 1,
   "metadata": {},
   "outputs": [],
   "source": [
    "from qiskit import QuantumCircuit, execute, Aer\n",
    "from qiskit.visualization import plot_histogram, plot_bloch_vector\n",
    "import numpy as np\n",
    "import numpy.random as rand\n",
    "\n",
    "backend = Aer.get_backend('statevector_simulator')"
   ]
  },
  {
   "cell_type": "code",
   "execution_count": 2,
   "metadata": {},
   "outputs": [
    {
     "data": {
      "text/html": [
       "<div>\n",
       "<style scoped>\n",
       "    .dataframe tbody tr th:only-of-type {\n",
       "        vertical-align: middle;\n",
       "    }\n",
       "\n",
       "    .dataframe tbody tr th {\n",
       "        vertical-align: top;\n",
       "    }\n",
       "\n",
       "    .dataframe thead th {\n",
       "        text-align: right;\n",
       "    }\n",
       "</style>\n",
       "<table border=\"1\" class=\"dataframe\">\n",
       "  <thead>\n",
       "    <tr style=\"text-align: right;\">\n",
       "      <th></th>\n",
       "      <th>Real</th>\n",
       "      <th>Evaluated</th>\n",
       "      <th>Relat. error</th>\n",
       "    </tr>\n",
       "    <tr>\n",
       "      <th>Exp. №</th>\n",
       "      <th></th>\n",
       "      <th></th>\n",
       "      <th></th>\n",
       "    </tr>\n",
       "  </thead>\n",
       "  <tbody>\n",
       "    <tr>\n",
       "      <th>0</th>\n",
       "      <td>-0.612683</td>\n",
       "      <td>-0.612683</td>\n",
       "      <td>1.449654e-15</td>\n",
       "    </tr>\n",
       "    <tr>\n",
       "      <th>1</th>\n",
       "      <td>-0.374461</td>\n",
       "      <td>-0.374461</td>\n",
       "      <td>2.371884e-15</td>\n",
       "    </tr>\n",
       "    <tr>\n",
       "      <th>2</th>\n",
       "      <td>-0.203455</td>\n",
       "      <td>0.203455</td>\n",
       "      <td>1.227791e-15</td>\n",
       "    </tr>\n",
       "    <tr>\n",
       "      <th>3</th>\n",
       "      <td>-0.353888</td>\n",
       "      <td>-0.353888</td>\n",
       "      <td>1.098026e-15</td>\n",
       "    </tr>\n",
       "    <tr>\n",
       "      <th>4</th>\n",
       "      <td>-0.491891</td>\n",
       "      <td>-0.491891</td>\n",
       "      <td>3.724132e-15</td>\n",
       "    </tr>\n",
       "    <tr>\n",
       "      <th>5</th>\n",
       "      <td>-0.928190</td>\n",
       "      <td>-0.928190</td>\n",
       "      <td>5.980583e-16</td>\n",
       "    </tr>\n",
       "    <tr>\n",
       "      <th>6</th>\n",
       "      <td>0.963957</td>\n",
       "      <td>0.963957</td>\n",
       "      <td>5.413153e-15</td>\n",
       "    </tr>\n",
       "    <tr>\n",
       "      <th>7</th>\n",
       "      <td>0.464893</td>\n",
       "      <td>0.464893</td>\n",
       "      <td>1.194063e-15</td>\n",
       "    </tr>\n",
       "    <tr>\n",
       "      <th>8</th>\n",
       "      <td>-0.617087</td>\n",
       "      <td>-0.617087</td>\n",
       "      <td>6.117063e-15</td>\n",
       "    </tr>\n",
       "    <tr>\n",
       "      <th>9</th>\n",
       "      <td>-0.150843</td>\n",
       "      <td>0.150843</td>\n",
       "      <td>3.496061e-15</td>\n",
       "    </tr>\n",
       "  </tbody>\n",
       "</table>\n",
       "</div>"
      ],
      "text/plain": [
       "            Real  Evaluated  Relat. error\n",
       "Exp. №                                   \n",
       "0      -0.612683  -0.612683  1.449654e-15\n",
       "1      -0.374461  -0.374461  2.371884e-15\n",
       "2      -0.203455   0.203455  1.227791e-15\n",
       "3      -0.353888  -0.353888  1.098026e-15\n",
       "4      -0.491891  -0.491891  3.724132e-15\n",
       "5      -0.928190  -0.928190  5.980583e-16\n",
       "6       0.963957   0.963957  5.413153e-15\n",
       "7       0.464893   0.464893  1.194063e-15\n",
       "8      -0.617087  -0.617087  6.117063e-15\n",
       "9      -0.150843   0.150843  3.496061e-15"
      ]
     },
     "execution_count": 2,
     "metadata": {},
     "output_type": "execute_result"
    }
   ],
   "source": [
    "import pandas as pd\n",
    "real_phase = []\n",
    "eval_phase = []\n",
    "for j in range(10):\n",
    "    # Random initial vector\n",
    "    theta, phi = rand.rand(2) * np.pi\n",
    "    sin = np.sin(theta)\n",
    "    cos = np.cos(theta)\n",
    "    phase = np.exp(1j*phi)\n",
    "\n",
    "    res = []\n",
    "    for i in range(2):\n",
    "        qc = QuantumCircuit(1)\n",
    "        initial_state = [cos,sin*phase]\n",
    "        qc.initialize(initial_state, 0)\n",
    "        if i == 0:\n",
    "            qc.h(0)\n",
    "        qc.draw()\n",
    "        res.append(execute(qc,backend).result().get_counts()) # return probabilities P(0) and P(1)\n",
    "    phi_exp = (res[0]['0'] - res[0]['1']) / (2 * np.sqrt(res[1]['0'] * res[1]['1']))\n",
    "    real_phase.append(np.cos(phi))\n",
    "    eval_phase.append(phi_exp)\n",
    "df = pd.DataFrame(data = {'Real':real_phase,'Evaluated':eval_phase})\n",
    "df.index.name = 'Exp. №'\n",
    "df['Relat. error'] = np.abs((np.abs(df['Real']) - np.abs(df['Evaluated'])) / np.abs(df['Real']))\n",
    "df"
   ]
  },
  {
   "cell_type": "markdown",
   "metadata": {},
   "source": [
    "We see that the absolute values of the real and the evaluated phase are indeed equal; the sign though can not be defined in our experiment"
   ]
  },
  {
   "cell_type": "markdown",
   "metadata": {},
   "source": [
    "# 2. Single Qubit state preparation"
   ]
  },
  {
   "cell_type": "markdown",
   "metadata": {},
   "source": [
    "In terms of Bloch's sphere to prepare a general Qubit state from the $\\begin{pmatrix}1 \\\\ 0 \\end{pmatrix}$ on could first rotate the vector around the $X$ axis on the angle $\\pi/2$,\n",
    "then rotate along the $Z$ axis on the angle $\\theta$, rotate it back, i.e. around the $X$ axis on the angle $-\\pi/2$ and then finally add a phase shift via rotation around the $Z$ axis on the angle $\\varphi$\n",
    "So let's check how the combination $\\mathbf {R_z(\\varphi)HR_z(2\\theta)H}$ acts on the vector $\\begin{pmatrix}1 \\\\ 0\\end{pmatrix}$"
   ]
  },
  {
   "cell_type": "markdown",
   "metadata": {},
   "source": [
    "$ \\begin{pmatrix} 1 & 1 \\\\ 1 & e^{i\\phi} \\end{pmatrix} \\begin{pmatrix} 1 & 1 \\\\ 1 & -1 \\end{pmatrix} \\begin{pmatrix} 1 & 1 \\\\ 1 & e^{2i\\theta} \\end{pmatrix} \\begin{pmatrix} 1 & 1 \\\\ 1 & -1 \\end{pmatrix} \\begin{pmatrix} 1 \\\\ 0\\end{pmatrix} = \\begin{pmatrix} \\frac{1-e^{2i\\theta}}{2}  \\\\ e^{i\\phi}\\frac{1+e^{2i\\theta}}{2} \\end{pmatrix} = \n",
    "e^{i\\theta}\\begin{pmatrix}i\\sin\\theta \\\\ \\cos\\theta e^{i\\phi} \\end{pmatrix}$"
   ]
  },
  {
   "cell_type": "markdown",
   "metadata": {},
   "source": [
    "Let's also multiply by $\\mathbf{S}$ to illiminate imaginary unit in $a_0$, so to get the desired state we use the operator $\\mathbf {U_3 = S R_z(\\varphi)HR_z(2\\theta)H}$"
   ]
  },
  {
   "cell_type": "markdown",
   "metadata": {},
   "source": [
    "Let's compare to Qiskit's built-in $\\mathbf{U_3}$"
   ]
  },
  {
   "cell_type": "code",
   "execution_count": 12,
   "metadata": {},
   "outputs": [],
   "source": [
    "# Random initial vector\n",
    "theta, phi = rand.rand(2) * np.pi\n",
    "\n",
    "res = []\n",
    "for i in range(2):\n",
    "    qc = QuantumCircuit(1)\n",
    "    qc.initialize([1,0], 0)\n",
    "    if i == 0:\n",
    "        qc.u3(2*theta, phi, 0, 0) # Qiskit's U_3\n",
    "        res = execute(qc,backend).result().get_statevector()\n",
    "        q_re0 = np.real(res[0])\n",
    "        q_im0 = np.imag(res[0])\n",
    "        q_re1 = np.real(res[1])\n",
    "        q_im1 = np.imag(res[1])\n",
    "    else: \n",
    "        qc.h(0)\n",
    "        qc.rz(2*theta,0)\n",
    "        qc.h(0)          # My implementation\n",
    "        qc.rz(phi, 0)\n",
    "        qc.s(0)\n",
    "        res = execute(qc,backend).result().get_statevector() * np.power(np.e, - 1j * theta) # return statevector multiplied by the phase\n",
    "        my_re0 = np.real(res[0])\n",
    "        my_im0 = np.imag(res[0])\n",
    "        my_re1 = np.real(res[1])\n",
    "        my_im1 = np.imag(res[1])"
   ]
  },
  {
   "cell_type": "code",
   "execution_count": 16,
   "metadata": {},
   "outputs": [
    {
     "name": "stdout",
     "output_type": "stream",
     "text": [
      " a_0 real || qiskit : 4.73e-01 || my : 4.73e-01 || delta : 2.22e-16\n",
      " a_0 imag || qiskit : 0.00e+00 || my : -1.94e-16 || delta : 3.89e-16\n",
      " a_1 real || qiskit : 8.60e-01 || my : 8.60e-01 || delta : 2.22e-16\n",
      " a_1 imag || qiskit : 1.92e-01 || my : 1.92e-01 || delta : 1.11e-16\n"
     ]
    }
   ],
   "source": [
    "print(f\" a_0 real || qiskit : {q_re0:.2e} || my : {my_re0:.2e} || delta : {2*np.abs(q_re0 - my_re0):.2e}\")\n",
    "print(f\" a_0 imag || qiskit : {q_im0:.2e} || my : {my_im0:.2e} || delta : {2*np.abs(q_im0 - my_im0):.2e}\")\n",
    "print(f\" a_1 real || qiskit : {q_re1:.2e} || my : {my_re1:.2e} || delta : {2*np.abs(q_re1 - my_re1):.2e}\")\n",
    "print(f\" a_1 imag || qiskit : {q_im1:.2e} || my : {my_im1:.2e} || delta : {2*np.abs(q_im1 - my_im1):.2e}\")"
   ]
  },
  {
   "cell_type": "markdown",
   "metadata": {},
   "source": [
    "Errors are negligibly small"
   ]
  },
  {
   "cell_type": "markdown",
   "metadata": {},
   "source": [
    "# 3. Useful identities"
   ]
  },
  {
   "cell_type": "markdown",
   "metadata": {},
   "source": [
    "Proof by direct comparison"
   ]
  },
  {
   "cell_type": "markdown",
   "metadata": {},
   "source": [
    "### 1) \n",
    "$\\mathbf{HXH} = \n",
    "\\frac{1}{2}\n",
    "\\begin{pmatrix} \n",
    "1 & 1 \\\\\n",
    "1 & -1\n",
    "\\end{pmatrix}\n",
    "\\begin{pmatrix} \n",
    "0 & 1 \\\\\n",
    "1 & 0\n",
    "\\end{pmatrix}\n",
    "\\begin{pmatrix} \n",
    "1 & 1 \\\\\n",
    "1 & -1\n",
    "\\end{pmatrix}=\n",
    "\\frac{1}{2}\n",
    "\\begin{pmatrix} \n",
    "1 & 1 \\\\\n",
    "-1 & 1\n",
    "\\end{pmatrix}\n",
    "\\begin{pmatrix} \n",
    "1 & 1 \\\\\n",
    "1 & -1\n",
    "\\end{pmatrix}=\n",
    "\\begin{pmatrix} \n",
    "1 & 0 \\\\\n",
    "0 & -1\n",
    "\\end{pmatrix}\n",
    "\\equiv\\mathbf{Z}$"
   ]
  },
  {
   "cell_type": "markdown",
   "metadata": {},
   "source": [
    "### 2) \n",
    "$\\mathbf{cZ_0} = \n",
    "\\begin{pmatrix}\n",
    "I & 0 \\\\\n",
    "0 & Z\n",
    "\\end{pmatrix} =\n",
    "\\begin{pmatrix}\n",
    "1 & 0 & 0 & 0 \\\\\n",
    "0 & 1 & 0 & 0 \\\\\n",
    "0 & 0 & 1 & 0 \\\\\n",
    "0 & 0 & 0 & -1\n",
    "\\end{pmatrix}$\n",
    "\n",
    "\n",
    "$\\mathbf{cZ_1} = \n",
    "\\begin{pmatrix}\n",
    "1 & 0 & 0 & 0 \\\\\n",
    "0 & \\mathbf{Z}_{00} & 0 & \\mathbf{Z}_{01} \\\\\n",
    "0 & 0 & 1 & 0 \\\\\n",
    "0 & \\mathbf{Z}_{10} & 0 & \\mathbf{Z}_{11}\n",
    "\\end{pmatrix}=\\begin{pmatrix}\n",
    "1 & 0 & 0 & 0 \\\\\n",
    "0 & 1 & 0 & 0 \\\\\n",
    "0 & 0 & 1 & 0 \\\\\n",
    "0 & 0 & 0 & -1\n",
    "\\end{pmatrix}=\\mathbf{cZ_0}$"
   ]
  },
  {
   "cell_type": "markdown",
   "metadata": {},
   "source": [
    "### 3) \n",
    "$\\left(\\mathbf{H\\otimes H}\\right) \\mathbf{cX} \\left(\\mathbf{H\\otimes H}\\right)=?$\n",
    "\n",
    "a) $\\mathbf{H\\otimes H} = \\frac{1}{2}\n",
    "\\begin{pmatrix}\n",
    "1 & 1 & 1 & 1 \\\\\n",
    "1 & -1 & 1 & -1 \\\\\n",
    "1 & 1 & -1 & -1 \\\\\n",
    "1 & -1 & -1 & 1 \\\\\n",
    "\\end{pmatrix}$\n",
    "\n",
    "\n",
    "b) $\\frac{1}{4}\n",
    "\\begin{pmatrix}\n",
    "1 & 1 & 1 & 1 \\\\\n",
    "1 & -1 & 1 & -1 \\\\\n",
    "1 & 1 & -1 & -1 \\\\\n",
    "1 & -1 & -1 & 1 \\\\\n",
    "\\end{pmatrix}\n",
    "\\begin{pmatrix}\n",
    "1 & 0 & 0 & 0 \\\\\n",
    "0 & 1 & 0 & 0 \\\\\n",
    "0 & 0 & 0 & 1 \\\\\n",
    "0 & 0 & 1 & 0 \\\\\n",
    "\\end{pmatrix}\n",
    "\\begin{pmatrix}\n",
    "1 & 1 & 1 & 1 \\\\\n",
    "1 & -1 & 1 & -1 \\\\\n",
    "1 & 1 & -1 & -1 \\\\\n",
    "1 & -1 & -1 & 1 \\\\\n",
    "\\end{pmatrix}=\\frac{1}{4}\n",
    "\\begin{pmatrix}\n",
    "1 & 1 & 1 & 1 \\\\\n",
    "1 & -1 & -1 & 1 \\\\\n",
    "1 & 1 & -1 & -1 \\\\\n",
    "1 & -1 & 1 & -1 \\\\\n",
    "\\end{pmatrix}\n",
    "\\begin{pmatrix}\n",
    "1 & 1 & 1 & 1 \\\\\n",
    "1 & -1 & 1 & -1 \\\\\n",
    "1 & 1 & -1 & -1 \\\\\n",
    "1 & -1 & -1 & 1 \\\\\n",
    "\\end{pmatrix}=\n",
    "\\begin{pmatrix}\n",
    "1 & 0 & 0 & 0 \\\\\n",
    "0 & 1 & 0 & 1 \\\\\n",
    "0 & 0 & 1 & 0 \\\\\n",
    "0 & 1 & 0 & 0 \\\\\n",
    "\\end{pmatrix}\\equiv\n",
    "\\mathbf{cX_1}=\n",
    "\\begin{pmatrix}\n",
    "1 & 0 & 0 & 0 \\\\\n",
    "0 & \\mathbf{X}_{00} & 0 & \\mathbf{X}_{01} \\\\\n",
    "0 & 0 & 1 & 0 \\\\\n",
    "0 & \\mathbf{X}_{10} & 0 & \\mathbf{X}_{11}\n",
    "\\end{pmatrix}$"
   ]
  },
  {
   "cell_type": "markdown",
   "metadata": {},
   "source": [
    "### 4) \n",
    "$\\mathbf{c{e^{i\\alpha}}_0} = \n",
    "\\begin{pmatrix}\n",
    "1 & 0 & 0 & 0 \\\\\n",
    "0 & 1 & 0 & 0 \\\\\n",
    "0 & 0 & e^{i\\alpha} & 0 \\\\\n",
    "0 & 0 & 0 & e^{i\\alpha}\n",
    "\\end{pmatrix}$"
   ]
  },
  {
   "cell_type": "markdown",
   "metadata": {},
   "source": [
    "$U_1(\\alpha)\\otimes I=\n",
    "\\begin{pmatrix}\n",
    "1 & 0 \\\\\n",
    "0 & e^{i\\alpha}\n",
    "\\end{pmatrix}\\otimes\n",
    "\\begin{pmatrix}\n",
    "1 & 0 \\\\\n",
    "0 & 1\n",
    "\\end{pmatrix}=\n",
    "\\begin{pmatrix}\n",
    "1 & 0 & 0 & 0 \\\\\n",
    "0 & 1 & 0 & 0 \\\\\n",
    "0 & 0 & e^{i\\alpha} & 0 \\\\\n",
    "0 & 0 & 0 & e^{i\\alpha}\n",
    "\\end{pmatrix}$"
   ]
  },
  {
   "cell_type": "markdown",
   "metadata": {},
   "source": [
    "# 4. Separable and entangled states"
   ]
  },
  {
   "cell_type": "markdown",
   "metadata": {},
   "source": [
    "## (a). $ |\\psi\\rangle = \\frac{2}{3} |00\\rangle + \\frac{1}{3} |01\\rangle - \\frac{2}{3}|11\\rangle $\n",
    "If the state is separable, i.e. $|\\psi\\rangle=|a\\rangle \\otimes |b\\rangle$ where $|a\\rangle = \\begin{pmatrix}a_0 \\\\ a_1\\end{pmatrix}$, $|b\\rangle = \\begin{pmatrix}b_0 \\\\ b_1\\end{pmatrix}$, then the following system of equations has a solution:\n",
    "\n",
    "$\\begin{align}\n",
    "a_0 b_0 =& 2/3  \\\\\n",
    "a_0 b_1 =& 1/3  \\\\\n",
    "a_1 b_0 =& 0    \\\\\n",
    "a_1 b_1 =& -2/3 \\\\\n",
    "\\end{align}$\n",
    "\n",
    "Eqs. (1), (3) and (4) cannot be satisfied together, so the system does not have a solution and the state is **entangled**"
   ]
  },
  {
   "cell_type": "markdown",
   "metadata": {},
   "source": [
    "## (b). $ |\\psi\\rangle = \\frac{1}{2}\\left(|00\\rangle - i |01\\rangle + i |10\\rangle + |11\\rangle \\right)$\n",
    "\n",
    "$\\begin{align}\n",
    "a_0 b_0 =& 1/2   \\\\\n",
    "a_0 b_1 =& -i/2 \\\\\n",
    "a_1 b_0 =& i/2     \\\\\n",
    "a_1 b_1 =& 1/2  \\\\\n",
    "\\end{align}$\n",
    "\n",
    "The system have a solution $a_0 = -i/\\sqrt{2}$, $a_1 = 1/\\sqrt{2}$, $b_0 = i/\\sqrt{2}$, $b_1 = 1/\\sqrt{2}$ so the state is **separable**"
   ]
  },
  {
   "cell_type": "markdown",
   "metadata": {},
   "source": [
    "## (c). $ |\\psi\\rangle = \\frac{1}{2}\\left(|00\\rangle - |01\\rangle + |10\\rangle + |11\\rangle \\right)$\n",
    "\n",
    "$\\begin{align}\n",
    "a_0 b_0 =& 1/2  \\\\\n",
    "a_0 b_1 =& -1/2   \\\\\n",
    "a_1 b_0 =& 1/2     \\\\\n",
    "a_1 b_1 =& 1/2  \\\\\n",
    "\\end{align}$\n",
    "\n",
    "It follows from (3) and (4) that $b_0=b_1$, but it leads to the fact that Eqs. (1) and (2) are not compatible. So the system does not have a solution and the state is **entangled**"
   ]
  },
  {
   "cell_type": "markdown",
   "metadata": {},
   "source": [
    "# 6. Measuring gate"
   ]
  },
  {
   "cell_type": "markdown",
   "metadata": {},
   "source": [
    "## $|\\psi\\rangle = \\sum\\limits_x \\alpha_x |x\\rangle_m |\\Phi_x\\rangle_{n-m}$"
   ]
  },
  {
   "cell_type": "markdown",
   "metadata": {},
   "source": [
    "We can rewrite $\\Phi_x$ in the same manner:"
   ]
  },
  {
   "cell_type": "markdown",
   "metadata": {},
   "source": [
    "## $|\\Phi_x\\rangle = \\sum\\limits_y \\beta_y |y\\rangle_k |\\Theta_{x,y}\\rangle_{n-m-k}$"
   ]
  },
  {
   "cell_type": "markdown",
   "metadata": {},
   "source": [
    "So after the measurment of the first $m$ qbits we get the state $|\\Phi_x\\rangle$ with the probability $\\alpha_x$. Then we measure the next $k$ qbits and get state $|\\Theta_{x,y}\\rangle$ with the conditional probability $\\beta_y$. So the total probability of the state $|\\Theta_{x,y}\\rangle$ is $\\alpha_x \\cdot \\beta_y$"
   ]
  },
  {
   "cell_type": "markdown",
   "metadata": {},
   "source": [
    "But if we subsitute $\\Phi_x$ with the new expression:"
   ]
  },
  {
   "cell_type": "markdown",
   "metadata": {},
   "source": [
    "## $|\\psi\\rangle = \\sum\\limits_x \\alpha_x |x\\rangle_m \\sum\\limits_y \\beta_y |y\\rangle_k |\\Theta_{x,y}\\rangle_{n-m-k}$"
   ]
  },
  {
   "cell_type": "markdown",
   "metadata": {},
   "source": [
    "it is obvious that the probability of measuring the system in the state $|\\Theta_{x,y}\\rangle$ is equal to $\\alpha_x \\cdot \\beta_y$, Q.E.D."
   ]
  }
 ],
 "metadata": {
  "kernelspec": {
   "display_name": "Python 3",
   "language": "python",
   "name": "python3"
  },
  "language_info": {
   "codemirror_mode": {
    "name": "ipython",
    "version": 3
   },
   "file_extension": ".py",
   "mimetype": "text/x-python",
   "name": "python",
   "nbconvert_exporter": "python",
   "pygments_lexer": "ipython3",
   "version": "3.8.5"
  }
 },
 "nbformat": 4,
 "nbformat_minor": 4
}

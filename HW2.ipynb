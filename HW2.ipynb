{
 "cells": [
  {
   "cell_type": "markdown",
   "metadata": {},
   "source": [
    "# 2. Useful identities"
   ]
  },
  {
   "cell_type": "markdown",
   "metadata": {},
   "source": [
    "## 1. Prove that\n",
    "## $H^{\\otimes n} |x\\rangle = \\frac{1}{\\sqrt{2^n}} \\sum\\limits_{\\mathbf{z}\\in\\{0,1\\}^n} (-1)^{\\mathbf{x\\cdot z}} | z \\rangle$"
   ]
  },
  {
   "cell_type": "markdown",
   "metadata": {},
   "source": [
    "Let's start with $n=1$:"
   ]
  },
  {
   "cell_type": "markdown",
   "metadata": {},
   "source": [
    "### $H |x\\rangle = \\frac{1}{\\sqrt{2}}\\left( |0\\rangle + (-1)^x |1\\rangle \\right) = \\frac{1}{\\sqrt{2}}\\sum\\limits_{y=0}^{1}(-1)^{x\\cdot y} |y\\rangle$"
   ]
  },
  {
   "cell_type": "markdown",
   "metadata": {},
   "source": [
    "Then"
   ]
  },
  {
   "cell_type": "markdown",
   "metadata": {},
   "source": [
    "### $H^{\\otimes n}|x_1\\rangle\\dots|x_n\\rangle=\\prod\\limits_{j=1}^n\\left[\\frac{1}{\\sqrt{2}}\\sum\\limits_{y_j=0}^{1}(-1)^{x_j\\cdot y_j} |y_j\\rangle\\right]= \\frac{1}{\\sqrt{2^n}}\\sum\\limits_{y\\in\\{0,1\\}^n} (-1)^{\\sum\\limits_{j=1}^n x_j y_j} |y_1\\rangle\\dots|y_n\\rangle = \\frac{1}{\\sqrt{2^n}}\\sum\\limits_{y\\in\\{0,1\\}^n} (-1)^{xy} |y\\rangle$, Q.E.D."
   ]
  },
  {
   "cell_type": "markdown",
   "metadata": {},
   "source": [
    "## 2. Show that\n",
    "## $H^{\\otimes n} \\left( \\frac{1}{\\sqrt{2}} |x\\rangle + \\frac{1}{\\sqrt{2}} |y\\rangle \\right) = \\frac{1}{\\sqrt{2^n}} \\sum\\limits_{\\mathbf{z}\\in\\{s_\\perp\\}} (-1)^{\\mathbf{x\\cdot z}} | z \\rangle$"
   ]
  },
  {
   "cell_type": "markdown",
   "metadata": {},
   "source": [
    "Using 1.:\n",
    "## $H^{\\otimes n} \\left( \\frac{1}{\\sqrt{2}} |x\\rangle + \\frac{1}{\\sqrt{2}} |y\\rangle \\right) = \\frac{1}{\\sqrt{2^{n+1}}}\\sum\\limits_{z\\in\\{0,1\\}^n}$ $\\left[ (-1)^{xz} + (-1)^{yz} \\right] $"
   ]
  },
  {
   "cell_type": "markdown",
   "metadata": {},
   "source": [
    "The sum $(-1)^{xz} + (-1)^{yz}$ is equal to either 0 when $xz=-yz$ or 2 when $xz=yz$"
   ]
  },
  {
   "cell_type": "markdown",
   "metadata": {},
   "source": [
    "So the non-vanishing terms should satisfy the condition\n",
    "$\n",
    "xz = yz \\\\\n",
    "(x\\oplus y)z = (y\\oplus y)z \\\\\n",
    "(x\\oplus y)z = 0\n",
    "$\n",
    "i.e. $z$ should be the element of $s_\\perp = \\{\\mathbf{z}\\ |\\ \\mathbf{s}\\cdot \\mathbf{z} = 0,\\ \\forall \\mathbf{s}\\in \\mathbf{x} \\oplus \\mathbf{y} \\}$, Q.E.D."
   ]
  },
  {
   "cell_type": "markdown",
   "metadata": {},
   "source": [
    "# 3. Probabilities for solving Simon's problem"
   ]
  },
  {
   "cell_type": "markdown",
   "metadata": {},
   "source": [
    "Consider the case $n=3$ and $x=1$. The possible vectors in the 2d subspace are: (0,0), (1,0), (0,1), (1,1). The pairs (0,1)-(1,0), (0,1)-(1,1) and (1,0)-(1,1) are linearly independant. So the questions is, what's the probability of choosing four vectors from the subspace randomly and getting at least one of the above pairs."
   ]
  },
  {
   "cell_type": "markdown",
   "metadata": {},
   "source": [
    "Let's find all the outcomes when we do not have one of that pairs in out four vectors. There are 5 groups of such outcomes which can be written as follows\n",
    "### $\\mathbf{O} \\times N + \\mathbf{A} \\times(4-N), N\\in{0,4}$\n",
    "Which means that we pick the vector $\\mathbf{O}=(0,0)$ N times and the vector $\\mathbf{A}$ which is one of the (1,0), (0,1), (1,1) vectors (4-N) times."
   ]
  },
  {
   "cell_type": "markdown",
   "metadata": {},
   "source": [
    "The number of these outcomes is equal to 1 for $N=0$ and $3\\times C_4^N$ for $N>1$ so the total number of \"bad\" outcomes:\n",
    "$1 + 3\\times\\left( C_4^1 + C_4^2 + C_4^3 + C_4^4 \\right) = 1 + 3 \\times (4 + 6 + 4 + 1) = 1 + 3 \\cdot 15 = 46$. The total number of possible outcomes is $4^4$.\n",
    "So the probability of finding at least two linearly independant vectors is\n",
    "## $1 - \\frac{46}{4^4} = \\frac{105}{128}$"
   ]
  },
  {
   "cell_type": "markdown",
   "metadata": {},
   "source": [
    "The general formula gives the same result:\n",
    "## $\\left( 1 - \\frac{1}{2^3} \\right) \\left( 1 - \\frac{1}{2^4} \\right)=\\frac{7\\cdot 15}{8\\cdot 16}=\\frac{105}{128}$, Q.E.D."
   ]
  }
 ],
 "metadata": {
  "kernelspec": {
   "display_name": "Python 3",
   "language": "python",
   "name": "python3"
  },
  "language_info": {
   "codemirror_mode": {
    "name": "ipython",
    "version": 3
   },
   "file_extension": ".py",
   "mimetype": "text/x-python",
   "name": "python",
   "nbconvert_exporter": "python",
   "pygments_lexer": "ipython3",
   "version": "3.8.5"
  }
 },
 "nbformat": 4,
 "nbformat_minor": 4
}
